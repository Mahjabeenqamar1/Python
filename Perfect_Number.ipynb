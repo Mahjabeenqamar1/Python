{
  "nbformat": 4,
  "nbformat_minor": 0,
  "metadata": {
    "colab": {
      "provenance": [],
      "authorship_tag": "ABX9TyOw2fVWhjQefVIr7nwj8JBE",
      "include_colab_link": true
    },
    "kernelspec": {
      "name": "python3",
      "display_name": "Python 3"
    },
    "language_info": {
      "name": "python"
    }
  },
  "cells": [
    {
      "cell_type": "markdown",
      "metadata": {
        "id": "view-in-github",
        "colab_type": "text"
      },
      "source": [
        "<a href=\"https://colab.research.google.com/github/Mahjabeenqamar1/Python/blob/main/Perfect_Number.ipynb\" target=\"_parent\"><img src=\"https://colab.research.google.com/assets/colab-badge.svg\" alt=\"Open In Colab\"/></a>"
      ]
    },
    {
      "cell_type": "markdown",
      "source": [
        "##How To Check Perfect Number Using For Loop\n",
        "This is the simplest and easiest way to check perfect numbers in Python. Here, we use the for loop to find the perfect number.\n",
        "\n",
        "Step 1: We take variable N to the input number.\n",
        "Step 2: Then we declare the sum to 0.\n",
        "Step 3: We use for loop to repeat the range.\n",
        "Step 4: Then in the if loop we find whether the number is divisible by ‘i’ or not then we add the numbers and store them in sum.\n",
        "Step 5: If the sum is equal to a number then the number is a perfect number, else it is not a perfect number."
      ],
      "metadata": {
        "id": "ZhR8iXgKI6BI"
      }
    },
    {
      "cell_type": "code",
      "execution_count": 3,
      "metadata": {
        "id": "tRaUi-H-2RoL",
        "colab": {
          "base_uri": "https://localhost:8080/"
        },
        "outputId": "52049b21-77a5-4927-f3ff-58c62ea3dee7"
      },
      "outputs": [
        {
          "output_type": "stream",
          "name": "stdout",
          "text": [
            "6 is a perfect number:\n"
          ]
        }
      ],
      "source": [
        "N = 6\n",
        "sum = 0\n",
        "for i in range(1,N):\n",
        "  if N%i == 0:\n",
        "    sum = sum +i\n",
        "\n",
        "if (sum == N):\n",
        "  print(N,\"is a perfect number:\")\n",
        "else:\n",
        "  print(N,\"is not a perfect Number:\")\n",
        "\n",
        "\n"
      ]
    },
    {
      "cell_type": "code",
      "source": [
        "# Python program to print perfect numbers using for loop\n",
        "\n",
        "def perfect_Number(n):  #user-defined function\n",
        "   if n < 1:\n",
        "      return False\n",
        "\n",
        "   perfect_sum = 0\n",
        "   for i in range(1,n):\n",
        "      if n%i==0:\n",
        "         perfect_sum += i\n",
        "   return perfect_sum == n\n",
        "\n",
        "# take inputs\n",
        "min_value = int(input('Print minimum value: '))\n",
        "max_value = int(input('Print maximum value: '))\n",
        "\n",
        "# calling function and print perfect numbers\n",
        "print('Perfect numbers from %d to %d are:' %(min_value, max_value))\n",
        "for i in range(min_value, max_value+1):\n",
        "   if perfect_Number(i):\n",
        "      print(i, end=', ')\n"
      ],
      "metadata": {
        "colab": {
          "base_uri": "https://localhost:8080/"
        },
        "id": "32Y3dpz1Is0O",
        "outputId": "c3f7e785-04ba-43ba-a69a-81772bfecac7"
      },
      "execution_count": 8,
      "outputs": [
        {
          "output_type": "stream",
          "name": "stdout",
          "text": [
            "Print minimum value: 3\n",
            "Print maximum value: 2\n",
            "Perfect numbers from 3 to 2 are:\n"
          ]
        }
      ]
    },
    {
      "cell_type": "code",
      "source": [],
      "metadata": {
        "id": "ul50dPCuKPHw"
      },
      "execution_count": null,
      "outputs": []
    }
  ]
}