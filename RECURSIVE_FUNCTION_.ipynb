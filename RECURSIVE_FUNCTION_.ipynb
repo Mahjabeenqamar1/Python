{
  "nbformat": 4,
  "nbformat_minor": 0,
  "metadata": {
    "colab": {
      "provenance": [],
      "authorship_tag": "ABX9TyPVKZgDMPmzqI7XmtRw8/O0",
      "include_colab_link": true
    },
    "kernelspec": {
      "name": "python3",
      "display_name": "Python 3"
    },
    "language_info": {
      "name": "python"
    }
  },
  "cells": [
    {
      "cell_type": "markdown",
      "metadata": {
        "id": "view-in-github",
        "colab_type": "text"
      },
      "source": [
        "<a href=\"https://colab.research.google.com/github/Mahjabeenqamar1/Python/blob/main/RECURSIVE_FUNCTION_.ipynb\" target=\"_parent\"><img src=\"https://colab.research.google.com/assets/colab-badge.svg\" alt=\"Open In Colab\"/></a>"
      ]
    },
    {
      "cell_type": "markdown",
      "source": [
        "Write a function to compute sum of integers in a given array of size N, using recursive approach. Recursive function should returns value of computed sum at the end of recursion.Example: [1, 6, 9, 34, 2, 23] => RECURSIVE FUNCTION RETURNS => 75No credit will be given if recursive solution uses a global variable to store computed sum."
      ],
      "metadata": {
        "id": "gD2y-RXtt16S"
      }
    },
    {
      "cell_type": "code",
      "source": [
        "def _findSum(arr, N):\n",
        "    if N <= 0:\n",
        "        return 0\n",
        "    else:\n",
        "        return _findSum(arr, N - 1) + arr[N - 1]\n",
        " \n",
        "# driver code\n",
        "arr =[]\n",
        "# input values to list\n",
        "arr = [1, 6, 9, 34, 2, 23]\n",
        "  \n",
        "# calculating length of array\n",
        "N = len(arr)\n",
        "  \n",
        "ans =_findSum(arr,N)\n",
        "print (ans)"
      ],
      "metadata": {
        "colab": {
          "base_uri": "https://localhost:8080/"
        },
        "id": "rRXTTLJdt2cl",
        "outputId": "dcf6196d-258b-4e88-ff43-1d8f0f962b60"
      },
      "execution_count": null,
      "outputs": [
        {
          "output_type": "stream",
          "name": "stdout",
          "text": [
            "75\n"
          ]
        }
      ]
    },
    {
      "cell_type": "markdown",
      "source": [
        "##\tAn array contains n numbers ranging from 0 to n-2. There is exactly one number duplicated in the array. How do you find the duplicated number? For example, if an array with length 5 contains numbers {0, 2, 1, 3, 2}, the duplicated number is 2.Full credit will be given to the code/Algorithm which solves this problem in O(n) complexity."
      ],
      "metadata": {
        "id": "-pxPKQ5huvlu"
      }
    },
    {
      "cell_type": "code",
      "source": [
        "\n",
        "\n",
        "# removing duplicates from the list using naive methods \n",
        "\n",
        "# initializing list \n",
        "\n",
        "number = [0, 2, 1, 3, 2]\n",
        "print (\"The list is: \" + str(number)) \n",
        "\n",
        "# remove duplicates from list\n",
        "\n",
        "result = [] \n",
        "\n",
        "for i in number:\n",
        "  if i not in result:\n",
        "    result.append(i) \n",
        "\n",
        "# printing list after removal \n",
        "\n",
        "print (\"The list after removing duplicates : \" + str(result))"
      ],
      "metadata": {
        "colab": {
          "base_uri": "https://localhost:8080/"
        },
        "id": "n2-P6wgTvJox",
        "outputId": "2919e7d9-dc99-4d7a-d268-da9178ac49fa"
      },
      "execution_count": null,
      "outputs": [
        {
          "output_type": "stream",
          "name": "stdout",
          "text": [
            "The list is: [0, 2, 1, 3, 2]\n",
            "The list after removing duplicates : [0, 2, 1, 3]\n"
          ]
        }
      ]
    },
    {
      "cell_type": "code",
      "source": [
        "def find_Sum(arr, N):\n",
        "    if N <= 0:\n",
        "        return 0\n",
        "    else:\n",
        "        return find_Sum(arr, N - 1) + arr[N - 1]\n",
        " \n",
        "# driver code\n",
        "arr =[]\n",
        "# input values to list\n",
        "arr = [1, 6, 9, 34, 2, 23]\n",
        "  \n",
        "# calculating length of array\n",
        "N = len(arr)\n",
        "  \n",
        "ans =find_Sum(arr,N)\n",
        "print (ans)\n"
      ],
      "metadata": {
        "colab": {
          "base_uri": "https://localhost:8080/"
        },
        "id": "oQaCFB3TwQfw",
        "outputId": "77c8e8fe-80a3-4718-b43e-358fb21c7a7b"
      },
      "execution_count": null,
      "outputs": [
        {
          "output_type": "stream",
          "name": "stdout",
          "text": [
            "75\n"
          ]
        }
      ]
    },
    {
      "cell_type": "code",
      "source": [
        "nl=[]\n",
        "for x in range(2000, 3200):\n",
        "    if (x%7==0) and (x%5==0):\n",
        "        nl.append(str(x))\n",
        "print (','.join(nl))"
      ],
      "metadata": {
        "colab": {
          "base_uri": "https://localhost:8080/"
        },
        "id": "enxlgn-cxPFP",
        "outputId": "09ff58b3-9476-41db-f779-25bb1c7fe7ca"
      },
      "execution_count": null,
      "outputs": [
        {
          "output_type": "stream",
          "name": "stdout",
          "text": [
            "2030,2065,2100,2135,2170,2205,2240,2275,2310,2345,2380,2415,2450,2485,2520,2555,2590,2625,2660,2695,2730,2765,2800,2835,2870,2905,2940,2975,3010,3045,3080,3115,3150,3185\n"
          ]
        }
      ]
    },
    {
      "cell_type": "code",
      "source": [
        "import re\n",
        "\n",
        "STDIN = re.compile(r\"^[+-]?\\d*?\\.\\d+$\")\n",
        "\n",
        "for _  in range(int(input())):\n",
        "    print(bool(STDIN.match(input())))"
      ],
      "metadata": {
        "id": "OMBc-QHCzHoe"
      },
      "execution_count": null,
      "outputs": []
    },
    {
      "cell_type": "code",
      "source": [
        "STDIN"
      ],
      "metadata": {
        "colab": {
          "base_uri": "https://localhost:8080/"
        },
        "id": "lqkqfa3HYaMT",
        "outputId": "b88428e5-ba4e-404e-8760-a27e66a65601"
      },
      "execution_count": null,
      "outputs": [
        {
          "output_type": "execute_result",
          "data": {
            "text/plain": [
              "re.compile(r'^[+-]?\\d*?\\.\\d+$', re.UNICODE)"
            ]
          },
          "metadata": {},
          "execution_count": 8
        }
      ]
    },
    {
      "cell_type": "code",
      "source": [],
      "metadata": {
        "id": "3IpZ_of1ZgkR"
      },
      "execution_count": null,
      "outputs": []
    }
  ]
}